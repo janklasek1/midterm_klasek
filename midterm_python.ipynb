{
 "cells": [
  {
   "cell_type": "code",
   "execution_count": 1,
   "metadata": {},
   "outputs": [],
   "source": [
    "#import all necessary libraries\n",
    "import pandas as pd\n",
    "import numpy as np\n",
    "import requests\n",
    "import json\n",
    "import matplotlib.pyplot as plt"
   ]
  },
  {
   "cell_type": "markdown",
   "metadata": {},
   "source": [
    "## Task 1"
   ]
  },
  {
   "cell_type": "code",
   "execution_count": 2,
   "metadata": {},
   "outputs": [],
   "source": [
    "url = \"https://ies-midterm.soulution.rocks/saveme\""
   ]
  },
  {
   "cell_type": "code",
   "execution_count": 3,
   "metadata": {},
   "outputs": [],
   "source": [
    "r = requests.post(\n",
    "        url,\n",
    "        json = {\"cuni\":\"41972591\"})"
   ]
  },
  {
   "cell_type": "code",
   "execution_count": 4,
   "metadata": {},
   "outputs": [
    {
     "data": {
      "text/plain": [
       "200"
      ]
     },
     "execution_count": 4,
     "metadata": {},
     "output_type": "execute_result"
    }
   ],
   "source": [
    "r.status_code"
   ]
  },
  {
   "cell_type": "code",
   "execution_count": 5,
   "metadata": {},
   "outputs": [
    {
     "data": {
      "text/plain": [
       "'{\"data\": {}, \"message\": \"DO NOT SHARE THE DATASET WITH ANYONE! Download manually the following file which contains the data: https://ies-python-midterm.s3.eu-central-1.amazonaws.com/sos.zip\"}'"
      ]
     },
     "execution_count": 5,
     "metadata": {},
     "output_type": "execute_result"
    }
   ],
   "source": [
    "r.text"
   ]
  },
  {
   "cell_type": "markdown",
   "metadata": {},
   "source": [
    "## Task 2"
   ]
  },
  {
   "cell_type": "code",
   "execution_count": 6,
   "metadata": {},
   "outputs": [],
   "source": [
    "evr = pd.read_csv(\"EVR.csv\", index_col='Date')"
   ]
  },
  {
   "cell_type": "code",
   "execution_count": 7,
   "metadata": {},
   "outputs": [
    {
     "data": {
      "text/html": [
       "<div>\n",
       "<style scoped>\n",
       "    .dataframe tbody tr th:only-of-type {\n",
       "        vertical-align: middle;\n",
       "    }\n",
       "\n",
       "    .dataframe tbody tr th {\n",
       "        vertical-align: top;\n",
       "    }\n",
       "\n",
       "    .dataframe thead th {\n",
       "        text-align: right;\n",
       "    }\n",
       "</style>\n",
       "<table border=\"1\" class=\"dataframe\">\n",
       "  <thead>\n",
       "    <tr style=\"text-align: right;\">\n",
       "      <th></th>\n",
       "      <th>Open</th>\n",
       "      <th>High</th>\n",
       "      <th>Low</th>\n",
       "      <th>Close</th>\n",
       "      <th>Adj Close</th>\n",
       "      <th>Volume</th>\n",
       "    </tr>\n",
       "    <tr>\n",
       "      <th>Date</th>\n",
       "      <th></th>\n",
       "      <th></th>\n",
       "      <th></th>\n",
       "      <th></th>\n",
       "      <th></th>\n",
       "      <th></th>\n",
       "    </tr>\n",
       "  </thead>\n",
       "  <tbody>\n",
       "    <tr>\n",
       "      <th>2019-01-02</th>\n",
       "      <td>70.110001</td>\n",
       "      <td>74.230003</td>\n",
       "      <td>69.980003</td>\n",
       "      <td>73.839996</td>\n",
       "      <td>69.908577</td>\n",
       "      <td>725100</td>\n",
       "    </tr>\n",
       "    <tr>\n",
       "      <th>2019-01-03</th>\n",
       "      <td>73.379997</td>\n",
       "      <td>75.589996</td>\n",
       "      <td>72.930000</td>\n",
       "      <td>73.669998</td>\n",
       "      <td>69.747620</td>\n",
       "      <td>790200</td>\n",
       "    </tr>\n",
       "    <tr>\n",
       "      <th>2019-01-04</th>\n",
       "      <td>74.800003</td>\n",
       "      <td>76.860001</td>\n",
       "      <td>74.599998</td>\n",
       "      <td>76.440002</td>\n",
       "      <td>72.370148</td>\n",
       "      <td>607900</td>\n",
       "    </tr>\n",
       "    <tr>\n",
       "      <th>2019-01-07</th>\n",
       "      <td>74.449997</td>\n",
       "      <td>76.260002</td>\n",
       "      <td>73.150002</td>\n",
       "      <td>75.010002</td>\n",
       "      <td>71.016281</td>\n",
       "      <td>783700</td>\n",
       "    </tr>\n",
       "    <tr>\n",
       "      <th>2019-01-08</th>\n",
       "      <td>76.500000</td>\n",
       "      <td>77.589996</td>\n",
       "      <td>74.889999</td>\n",
       "      <td>77.150002</td>\n",
       "      <td>73.042351</td>\n",
       "      <td>771300</td>\n",
       "    </tr>\n",
       "  </tbody>\n",
       "</table>\n",
       "</div>"
      ],
      "text/plain": [
       "                 Open       High        Low      Close  Adj Close  Volume\n",
       "Date                                                                     \n",
       "2019-01-02  70.110001  74.230003  69.980003  73.839996  69.908577  725100\n",
       "2019-01-03  73.379997  75.589996  72.930000  73.669998  69.747620  790200\n",
       "2019-01-04  74.800003  76.860001  74.599998  76.440002  72.370148  607900\n",
       "2019-01-07  74.449997  76.260002  73.150002  75.010002  71.016281  783700\n",
       "2019-01-08  76.500000  77.589996  74.889999  77.150002  73.042351  771300"
      ]
     },
     "execution_count": 7,
     "metadata": {},
     "output_type": "execute_result"
    }
   ],
   "source": [
    "evr.head()"
   ]
  },
  {
   "cell_type": "code",
   "execution_count": 8,
   "metadata": {},
   "outputs": [],
   "source": [
    "evr[\"company\"] = \"EVR\""
   ]
  },
  {
   "cell_type": "code",
   "execution_count": 9,
   "metadata": {},
   "outputs": [
    {
     "data": {
      "text/html": [
       "<div>\n",
       "<style scoped>\n",
       "    .dataframe tbody tr th:only-of-type {\n",
       "        vertical-align: middle;\n",
       "    }\n",
       "\n",
       "    .dataframe tbody tr th {\n",
       "        vertical-align: top;\n",
       "    }\n",
       "\n",
       "    .dataframe thead th {\n",
       "        text-align: right;\n",
       "    }\n",
       "</style>\n",
       "<table border=\"1\" class=\"dataframe\">\n",
       "  <thead>\n",
       "    <tr style=\"text-align: right;\">\n",
       "      <th></th>\n",
       "      <th>Open</th>\n",
       "      <th>High</th>\n",
       "      <th>Low</th>\n",
       "      <th>Close</th>\n",
       "      <th>Adj Close</th>\n",
       "      <th>Volume</th>\n",
       "      <th>company</th>\n",
       "    </tr>\n",
       "    <tr>\n",
       "      <th>Date</th>\n",
       "      <th></th>\n",
       "      <th></th>\n",
       "      <th></th>\n",
       "      <th></th>\n",
       "      <th></th>\n",
       "      <th></th>\n",
       "      <th></th>\n",
       "    </tr>\n",
       "  </thead>\n",
       "  <tbody>\n",
       "    <tr>\n",
       "      <th>2019-01-02</th>\n",
       "      <td>70.110001</td>\n",
       "      <td>74.230003</td>\n",
       "      <td>69.980003</td>\n",
       "      <td>73.839996</td>\n",
       "      <td>69.908577</td>\n",
       "      <td>725100</td>\n",
       "      <td>EVR</td>\n",
       "    </tr>\n",
       "    <tr>\n",
       "      <th>2019-01-03</th>\n",
       "      <td>73.379997</td>\n",
       "      <td>75.589996</td>\n",
       "      <td>72.930000</td>\n",
       "      <td>73.669998</td>\n",
       "      <td>69.747620</td>\n",
       "      <td>790200</td>\n",
       "      <td>EVR</td>\n",
       "    </tr>\n",
       "    <tr>\n",
       "      <th>2019-01-04</th>\n",
       "      <td>74.800003</td>\n",
       "      <td>76.860001</td>\n",
       "      <td>74.599998</td>\n",
       "      <td>76.440002</td>\n",
       "      <td>72.370148</td>\n",
       "      <td>607900</td>\n",
       "      <td>EVR</td>\n",
       "    </tr>\n",
       "    <tr>\n",
       "      <th>2019-01-07</th>\n",
       "      <td>74.449997</td>\n",
       "      <td>76.260002</td>\n",
       "      <td>73.150002</td>\n",
       "      <td>75.010002</td>\n",
       "      <td>71.016281</td>\n",
       "      <td>783700</td>\n",
       "      <td>EVR</td>\n",
       "    </tr>\n",
       "    <tr>\n",
       "      <th>2019-01-08</th>\n",
       "      <td>76.500000</td>\n",
       "      <td>77.589996</td>\n",
       "      <td>74.889999</td>\n",
       "      <td>77.150002</td>\n",
       "      <td>73.042351</td>\n",
       "      <td>771300</td>\n",
       "      <td>EVR</td>\n",
       "    </tr>\n",
       "    <tr>\n",
       "      <th>...</th>\n",
       "      <td>...</td>\n",
       "      <td>...</td>\n",
       "      <td>...</td>\n",
       "      <td>...</td>\n",
       "      <td>...</td>\n",
       "      <td>...</td>\n",
       "      <td>...</td>\n",
       "    </tr>\n",
       "    <tr>\n",
       "      <th>2020-11-16</th>\n",
       "      <td>89.290001</td>\n",
       "      <td>89.610001</td>\n",
       "      <td>86.919998</td>\n",
       "      <td>88.690002</td>\n",
       "      <td>88.690002</td>\n",
       "      <td>370900</td>\n",
       "      <td>EVR</td>\n",
       "    </tr>\n",
       "    <tr>\n",
       "      <th>2020-11-17</th>\n",
       "      <td>87.879997</td>\n",
       "      <td>89.550003</td>\n",
       "      <td>87.570000</td>\n",
       "      <td>88.839996</td>\n",
       "      <td>88.839996</td>\n",
       "      <td>309400</td>\n",
       "      <td>EVR</td>\n",
       "    </tr>\n",
       "    <tr>\n",
       "      <th>2020-11-18</th>\n",
       "      <td>89.180000</td>\n",
       "      <td>90.690002</td>\n",
       "      <td>88.279999</td>\n",
       "      <td>88.309998</td>\n",
       "      <td>88.309998</td>\n",
       "      <td>334200</td>\n",
       "      <td>EVR</td>\n",
       "    </tr>\n",
       "    <tr>\n",
       "      <th>2020-11-19</th>\n",
       "      <td>87.820000</td>\n",
       "      <td>88.550003</td>\n",
       "      <td>87.250000</td>\n",
       "      <td>88.489998</td>\n",
       "      <td>88.489998</td>\n",
       "      <td>166300</td>\n",
       "      <td>EVR</td>\n",
       "    </tr>\n",
       "    <tr>\n",
       "      <th>2020-11-20</th>\n",
       "      <td>87.980003</td>\n",
       "      <td>88.570000</td>\n",
       "      <td>87.160004</td>\n",
       "      <td>88.309998</td>\n",
       "      <td>88.309998</td>\n",
       "      <td>196500</td>\n",
       "      <td>EVR</td>\n",
       "    </tr>\n",
       "  </tbody>\n",
       "</table>\n",
       "<p>478 rows × 7 columns</p>\n",
       "</div>"
      ],
      "text/plain": [
       "                 Open       High        Low      Close  Adj Close  Volume  \\\n",
       "Date                                                                        \n",
       "2019-01-02  70.110001  74.230003  69.980003  73.839996  69.908577  725100   \n",
       "2019-01-03  73.379997  75.589996  72.930000  73.669998  69.747620  790200   \n",
       "2019-01-04  74.800003  76.860001  74.599998  76.440002  72.370148  607900   \n",
       "2019-01-07  74.449997  76.260002  73.150002  75.010002  71.016281  783700   \n",
       "2019-01-08  76.500000  77.589996  74.889999  77.150002  73.042351  771300   \n",
       "...               ...        ...        ...        ...        ...     ...   \n",
       "2020-11-16  89.290001  89.610001  86.919998  88.690002  88.690002  370900   \n",
       "2020-11-17  87.879997  89.550003  87.570000  88.839996  88.839996  309400   \n",
       "2020-11-18  89.180000  90.690002  88.279999  88.309998  88.309998  334200   \n",
       "2020-11-19  87.820000  88.550003  87.250000  88.489998  88.489998  166300   \n",
       "2020-11-20  87.980003  88.570000  87.160004  88.309998  88.309998  196500   \n",
       "\n",
       "           company  \n",
       "Date                \n",
       "2019-01-02     EVR  \n",
       "2019-01-03     EVR  \n",
       "2019-01-04     EVR  \n",
       "2019-01-07     EVR  \n",
       "2019-01-08     EVR  \n",
       "...            ...  \n",
       "2020-11-16     EVR  \n",
       "2020-11-17     EVR  \n",
       "2020-11-18     EVR  \n",
       "2020-11-19     EVR  \n",
       "2020-11-20     EVR  \n",
       "\n",
       "[478 rows x 7 columns]"
      ]
     },
     "execution_count": 9,
     "metadata": {},
     "output_type": "execute_result"
    }
   ],
   "source": [
    "evr"
   ]
  },
  {
   "cell_type": "code",
   "execution_count": 10,
   "metadata": {},
   "outputs": [],
   "source": [
    "fltr = pd.read_csv(\"FLTR.csv\", index_col='Date')\n",
    "fltr"
   ]
  },
  {
   "cell_type": "code",
   "execution_count": 12,
   "metadata": {},
   "outputs": [],
   "source": [
    "fltr[\"company\"] = \"FLTR\""
   ]
  },
  {
   "cell_type": "code",
   "execution_count": 13,
   "metadata": {},
   "outputs": [],
   "source": [
    "companies = [evr, fltr]"
   ]
  },
  {
   "cell_type": "code",
   "execution_count": 14,
   "metadata": {},
   "outputs": [],
   "source": [
    "df = pd.concat(companies)\n",
    "df"
   ]
  },
  {
   "cell_type": "code",
   "execution_count": 15,
   "metadata": {},
   "outputs": [
    {
     "data": {
      "text/html": [
       "<div>\n",
       "<style scoped>\n",
       "    .dataframe tbody tr th:only-of-type {\n",
       "        vertical-align: middle;\n",
       "    }\n",
       "\n",
       "    .dataframe tbody tr th {\n",
       "        vertical-align: top;\n",
       "    }\n",
       "\n",
       "    .dataframe thead th {\n",
       "        text-align: right;\n",
       "    }\n",
       "</style>\n",
       "<table border=\"1\" class=\"dataframe\">\n",
       "  <thead>\n",
       "    <tr style=\"text-align: right;\">\n",
       "      <th></th>\n",
       "      <th>Open</th>\n",
       "      <th>High</th>\n",
       "      <th>Low</th>\n",
       "      <th>Close</th>\n",
       "      <th>Adj Close</th>\n",
       "      <th>Volume</th>\n",
       "      <th>company</th>\n",
       "    </tr>\n",
       "    <tr>\n",
       "      <th>Date</th>\n",
       "      <th></th>\n",
       "      <th></th>\n",
       "      <th></th>\n",
       "      <th></th>\n",
       "      <th></th>\n",
       "      <th></th>\n",
       "      <th></th>\n",
       "    </tr>\n",
       "  </thead>\n",
       "  <tbody>\n",
       "    <tr>\n",
       "      <th>2019-01-02</th>\n",
       "      <td>70.110001</td>\n",
       "      <td>74.230003</td>\n",
       "      <td>69.980003</td>\n",
       "      <td>73.839996</td>\n",
       "      <td>69.908577</td>\n",
       "      <td>725100</td>\n",
       "      <td>EVR</td>\n",
       "    </tr>\n",
       "    <tr>\n",
       "      <th>2019-01-03</th>\n",
       "      <td>73.379997</td>\n",
       "      <td>75.589996</td>\n",
       "      <td>72.930000</td>\n",
       "      <td>73.669998</td>\n",
       "      <td>69.747620</td>\n",
       "      <td>790200</td>\n",
       "      <td>EVR</td>\n",
       "    </tr>\n",
       "    <tr>\n",
       "      <th>2019-01-04</th>\n",
       "      <td>74.800003</td>\n",
       "      <td>76.860001</td>\n",
       "      <td>74.599998</td>\n",
       "      <td>76.440002</td>\n",
       "      <td>72.370148</td>\n",
       "      <td>607900</td>\n",
       "      <td>EVR</td>\n",
       "    </tr>\n",
       "    <tr>\n",
       "      <th>2019-01-07</th>\n",
       "      <td>74.449997</td>\n",
       "      <td>76.260002</td>\n",
       "      <td>73.150002</td>\n",
       "      <td>75.010002</td>\n",
       "      <td>71.016281</td>\n",
       "      <td>783700</td>\n",
       "      <td>EVR</td>\n",
       "    </tr>\n",
       "    <tr>\n",
       "      <th>2019-01-08</th>\n",
       "      <td>76.500000</td>\n",
       "      <td>77.589996</td>\n",
       "      <td>74.889999</td>\n",
       "      <td>77.150002</td>\n",
       "      <td>73.042351</td>\n",
       "      <td>771300</td>\n",
       "      <td>EVR</td>\n",
       "    </tr>\n",
       "    <tr>\n",
       "      <th>...</th>\n",
       "      <td>...</td>\n",
       "      <td>...</td>\n",
       "      <td>...</td>\n",
       "      <td>...</td>\n",
       "      <td>...</td>\n",
       "      <td>...</td>\n",
       "      <td>...</td>\n",
       "    </tr>\n",
       "    <tr>\n",
       "      <th>2020-11-16</th>\n",
       "      <td>25.240000</td>\n",
       "      <td>25.250000</td>\n",
       "      <td>25.230000</td>\n",
       "      <td>25.240000</td>\n",
       "      <td>25.240000</td>\n",
       "      <td>206700</td>\n",
       "      <td>FLTR</td>\n",
       "    </tr>\n",
       "    <tr>\n",
       "      <th>2020-11-17</th>\n",
       "      <td>25.230000</td>\n",
       "      <td>25.270000</td>\n",
       "      <td>25.230000</td>\n",
       "      <td>25.270000</td>\n",
       "      <td>25.270000</td>\n",
       "      <td>434900</td>\n",
       "      <td>FLTR</td>\n",
       "    </tr>\n",
       "    <tr>\n",
       "      <th>2020-11-18</th>\n",
       "      <td>25.250000</td>\n",
       "      <td>25.270000</td>\n",
       "      <td>25.240000</td>\n",
       "      <td>25.270000</td>\n",
       "      <td>25.270000</td>\n",
       "      <td>473100</td>\n",
       "      <td>FLTR</td>\n",
       "    </tr>\n",
       "    <tr>\n",
       "      <th>2020-11-19</th>\n",
       "      <td>25.270000</td>\n",
       "      <td>25.290001</td>\n",
       "      <td>25.240000</td>\n",
       "      <td>25.280001</td>\n",
       "      <td>25.280001</td>\n",
       "      <td>567600</td>\n",
       "      <td>FLTR</td>\n",
       "    </tr>\n",
       "    <tr>\n",
       "      <th>2020-11-20</th>\n",
       "      <td>25.290001</td>\n",
       "      <td>25.290001</td>\n",
       "      <td>25.240000</td>\n",
       "      <td>25.250000</td>\n",
       "      <td>25.250000</td>\n",
       "      <td>305600</td>\n",
       "      <td>FLTR</td>\n",
       "    </tr>\n",
       "  </tbody>\n",
       "</table>\n",
       "<p>956 rows × 7 columns</p>\n",
       "</div>"
      ],
      "text/plain": [
       "                 Open       High        Low      Close  Adj Close  Volume  \\\n",
       "Date                                                                        \n",
       "2019-01-02  70.110001  74.230003  69.980003  73.839996  69.908577  725100   \n",
       "2019-01-03  73.379997  75.589996  72.930000  73.669998  69.747620  790200   \n",
       "2019-01-04  74.800003  76.860001  74.599998  76.440002  72.370148  607900   \n",
       "2019-01-07  74.449997  76.260002  73.150002  75.010002  71.016281  783700   \n",
       "2019-01-08  76.500000  77.589996  74.889999  77.150002  73.042351  771300   \n",
       "...               ...        ...        ...        ...        ...     ...   \n",
       "2020-11-16  25.240000  25.250000  25.230000  25.240000  25.240000  206700   \n",
       "2020-11-17  25.230000  25.270000  25.230000  25.270000  25.270000  434900   \n",
       "2020-11-18  25.250000  25.270000  25.240000  25.270000  25.270000  473100   \n",
       "2020-11-19  25.270000  25.290001  25.240000  25.280001  25.280001  567600   \n",
       "2020-11-20  25.290001  25.290001  25.240000  25.250000  25.250000  305600   \n",
       "\n",
       "           company  \n",
       "Date                \n",
       "2019-01-02     EVR  \n",
       "2019-01-03     EVR  \n",
       "2019-01-04     EVR  \n",
       "2019-01-07     EVR  \n",
       "2019-01-08     EVR  \n",
       "...            ...  \n",
       "2020-11-16    FLTR  \n",
       "2020-11-17    FLTR  \n",
       "2020-11-18    FLTR  \n",
       "2020-11-19    FLTR  \n",
       "2020-11-20    FLTR  \n",
       "\n",
       "[956 rows x 7 columns]"
      ]
     },
     "execution_count": 15,
     "metadata": {},
     "output_type": "execute_result"
    }
   ],
   "source": []
  },
  {
   "cell_type": "code",
   "execution_count": 33,
   "metadata": {},
   "outputs": [
    {
     "name": "stdout",
     "output_type": "stream",
     "text": [
      "True\n",
      "True\n"
     ]
    }
   ],
   "source": [
    "#check the dates\n",
    "print(df.index.min() == '2019-01-02')\n",
    "print(df.index.max() == '2020-11-20')"
   ]
  },
  {
   "cell_type": "code",
   "execution_count": 17,
   "metadata": {},
   "outputs": [
    {
     "data": {
      "text/html": [
       "<div>\n",
       "<style scoped>\n",
       "    .dataframe tbody tr th:only-of-type {\n",
       "        vertical-align: middle;\n",
       "    }\n",
       "\n",
       "    .dataframe tbody tr th {\n",
       "        vertical-align: top;\n",
       "    }\n",
       "\n",
       "    .dataframe thead tr th {\n",
       "        text-align: left;\n",
       "    }\n",
       "\n",
       "    .dataframe thead tr:last-of-type th {\n",
       "        text-align: right;\n",
       "    }\n",
       "</style>\n",
       "<table border=\"1\" class=\"dataframe\">\n",
       "  <thead>\n",
       "    <tr>\n",
       "      <th></th>\n",
       "      <th colspan=\"2\" halign=\"left\">Adj Close</th>\n",
       "    </tr>\n",
       "    <tr>\n",
       "      <th></th>\n",
       "      <th>min</th>\n",
       "      <th>max</th>\n",
       "    </tr>\n",
       "    <tr>\n",
       "      <th>company</th>\n",
       "      <th></th>\n",
       "      <th></th>\n",
       "    </tr>\n",
       "  </thead>\n",
       "  <tbody>\n",
       "    <tr>\n",
       "      <th>EVR</th>\n",
       "      <td>35.080837</td>\n",
       "      <td>93.306076</td>\n",
       "    </tr>\n",
       "    <tr>\n",
       "      <th>FLTR</th>\n",
       "      <td>20.667774</td>\n",
       "      <td>25.280001</td>\n",
       "    </tr>\n",
       "  </tbody>\n",
       "</table>\n",
       "</div>"
      ],
      "text/plain": [
       "         Adj Close           \n",
       "               min        max\n",
       "company                      \n",
       "EVR      35.080837  93.306076\n",
       "FLTR     20.667774  25.280001"
      ]
     },
     "execution_count": 17,
     "metadata": {},
     "output_type": "execute_result"
    }
   ],
   "source": [
    "#min and max adj close per company\n",
    "df.groupby('company').agg({'Adj Close':['min', 'max']})"
   ]
  },
  {
   "cell_type": "code",
   "execution_count": 35,
   "metadata": {},
   "outputs": [
    {
     "data": {
      "text/html": [
       "<div>\n",
       "<style scoped>\n",
       "    .dataframe tbody tr th:only-of-type {\n",
       "        vertical-align: middle;\n",
       "    }\n",
       "\n",
       "    .dataframe tbody tr th {\n",
       "        vertical-align: top;\n",
       "    }\n",
       "\n",
       "    .dataframe thead th {\n",
       "        text-align: right;\n",
       "    }\n",
       "</style>\n",
       "<table border=\"1\" class=\"dataframe\">\n",
       "  <thead>\n",
       "    <tr style=\"text-align: right;\">\n",
       "      <th></th>\n",
       "      <th>Open</th>\n",
       "      <th>High</th>\n",
       "      <th>Low</th>\n",
       "      <th>Close</th>\n",
       "      <th>Adj Close</th>\n",
       "      <th>Volume</th>\n",
       "      <th>company</th>\n",
       "    </tr>\n",
       "    <tr>\n",
       "      <th>Date</th>\n",
       "      <th></th>\n",
       "      <th></th>\n",
       "      <th></th>\n",
       "      <th></th>\n",
       "      <th></th>\n",
       "      <th></th>\n",
       "      <th></th>\n",
       "    </tr>\n",
       "  </thead>\n",
       "  <tbody>\n",
       "    <tr>\n",
       "      <th>2019-01-30</th>\n",
       "      <td>93.050003</td>\n",
       "      <td>93.50</td>\n",
       "      <td>87.50</td>\n",
       "      <td>90.68</td>\n",
       "      <td>85.851967</td>\n",
       "      <td>2047600</td>\n",
       "      <td>EVR</td>\n",
       "    </tr>\n",
       "    <tr>\n",
       "      <th>2020-03-19</th>\n",
       "      <td>21.080000</td>\n",
       "      <td>22.09</td>\n",
       "      <td>19.42</td>\n",
       "      <td>21.65</td>\n",
       "      <td>21.440214</td>\n",
       "      <td>1891500</td>\n",
       "      <td>FLTR</td>\n",
       "    </tr>\n",
       "  </tbody>\n",
       "</table>\n",
       "</div>"
      ],
      "text/plain": [
       "                 Open   High    Low  Close  Adj Close   Volume company\n",
       "Date                                                                  \n",
       "2019-01-30  93.050003  93.50  87.50  90.68  85.851967  2047600     EVR\n",
       "2020-03-19  21.080000  22.09  19.42  21.65  21.440214  1891500    FLTR"
      ]
     },
     "execution_count": 35,
     "metadata": {},
     "output_type": "execute_result"
    }
   ],
   "source": [
    "#which day was the highest volume\n",
    "idx = df.groupby(['company'])['Volume'].transform(max) == df['Volume']\n",
    "df[idx]"
   ]
  },
  {
   "cell_type": "code",
   "execution_count": 28,
   "metadata": {},
   "outputs": [
    {
     "data": {
      "text/plain": [
       "Date\n",
       "2019-01-02    False\n",
       "2019-01-03    False\n",
       "2019-01-04    False\n",
       "2019-01-07    False\n",
       "2019-01-08    False\n",
       "              ...  \n",
       "2020-11-16    False\n",
       "2020-11-17    False\n",
       "2020-11-18    False\n",
       "2020-11-19    False\n",
       "2020-11-20    False\n",
       "Name: Volume, Length: 956, dtype: bool"
      ]
     },
     "execution_count": 28,
     "metadata": {},
     "output_type": "execute_result"
    }
   ],
   "source": []
  },
  {
   "cell_type": "code",
   "execution_count": 39,
   "metadata": {},
   "outputs": [
    {
     "data": {
      "text/plain": [
       "company\n",
       "EVR     237506800\n",
       "FLTR     64384100\n",
       "Name: Volume, dtype: int64"
      ]
     },
     "execution_count": 39,
     "metadata": {},
     "output_type": "execute_result"
    }
   ],
   "source": [
    "#total shares\n",
    "df.groupby(['company'])['Volume'].sum()"
   ]
  },
  {
   "cell_type": "code",
   "execution_count": 44,
   "metadata": {},
   "outputs": [],
   "source": [
    "df['company' == 'EVR'] = pd.Series(list(range(len(df))))"
   ]
  },
  {
   "cell_type": "code",
   "execution_count": 46,
   "metadata": {},
   "outputs": [
    {
     "data": {
      "image/png": "[encoded data removed]",
      "text/plain": [
       "<Figure size 432x288 with 1 Axes>"
      ]
     },
     "metadata": {
      "needs_background": "light"
     },
     "output_type": "display_data"
    }
   ],
   "source": [
    "df.plot(y = \"Volume\");"
   ]
  },
  {
   "cell_type": "code",
   "execution_count": null,
   "metadata": {},
   "outputs": [],
   "source": []
  }
 ],
 "metadata": {
  "kernelspec": {
   "display_name": "Python 3",
   "language": "python",
   "name": "python3"
  },
  "language_info": {
   "codemirror_mode": {
    "name": "ipython",
    "version": 3
   },
   "file_extension": ".py",
   "mimetype": "text/x-python",
   "name": "python",
   "nbconvert_exporter": "python",
   "pygments_lexer": "ipython3",
   "version": "3.8.3"
  }
 },
 "nbformat": 4,
 "nbformat_minor": 4
}
